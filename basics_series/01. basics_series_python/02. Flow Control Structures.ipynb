{
 "cells": [
  {
   "cell_type": "markdown",
   "id": "78032335",
   "metadata": {},
   "source": [
    "# if, elif, else Statements\n",
    "\"if, elif, else\" statements execute a block of code when a particular condition has been met."
   ]
  },
  {
   "cell_type": "code",
   "execution_count": 1,
   "id": "63e27e73",
   "metadata": {},
   "outputs": [
    {
     "name": "stdout",
     "output_type": "stream",
     "text": [
      "It was true!\n"
     ]
    }
   ],
   "source": [
    "# Example 1\n",
    "if True:\n",
    "    print('It was true!')"
   ]
  },
  {
   "cell_type": "code",
   "execution_count": 2,
   "id": "0d0a7503",
   "metadata": {},
   "outputs": [
    {
     "name": "stdout",
     "output_type": "stream",
     "text": [
      "I do not know if the statement is true or false.\n"
     ]
    }
   ],
   "source": [
    "# Example 2\n",
    "statement = False\n",
    "if statement:\n",
    "    print('The statement is true!')\n",
    "else:\n",
    "    print('I do not know if the statement is true or false.')"
   ]
  },
  {
   "cell_type": "code",
   "execution_count": 3,
   "id": "d3b4a842",
   "metadata": {},
   "outputs": [
    {
     "name": "stdout",
     "output_type": "stream",
     "text": [
      "The statement is false!\n"
     ]
    }
   ],
   "source": [
    "# Example 3\n",
    "statement = False\n",
    "if statement:\n",
    "    print('The statement is true!')\n",
    "elif not statement:\n",
    "    print('The statement is false!')\n",
    "else:\n",
    "    print('I do not know if the statement is true or false.')"
   ]
  },
  {
   "cell_type": "code",
   "execution_count": 4,
   "id": "9211449b",
   "metadata": {},
   "outputs": [
    {
     "name": "stdout",
     "output_type": "stream",
     "text": [
      "The grade is C.\n"
     ]
    }
   ],
   "source": [
    "# Example 4\n",
    "score = 72\n",
    "if score <= 60:\n",
    "    print('Failed!')\n",
    "elif score < 70:\n",
    "    print('The grade is D.')\n",
    "elif score < 80:\n",
    "    print('The grade is C.')\n",
    "elif score < 90:\n",
    "    print('The grade is B.')\n",
    "else:\n",
    "    print('The grade is A.')"
   ]
  },
  {
   "cell_type": "code",
   "execution_count": 5,
   "id": "cbef12c9",
   "metadata": {},
   "outputs": [
    {
     "name": "stdout",
     "output_type": "stream",
     "text": [
      "The minimum is c.\n"
     ]
    }
   ],
   "source": [
    "# Example 5\n",
    "a = 3\n",
    "b = 5\n",
    "c = 2\n",
    "\n",
    "if a < b:\n",
    "    if a < c:\n",
    "        print('The minimum is a.')\n",
    "    else:\n",
    "        print('The minimum is c.')\n",
    "else:\n",
    "    if b < c:\n",
    "        print('The minimum is b.')\n",
    "    else:\n",
    "        print('The minimum is c.')"
   ]
  },
  {
   "cell_type": "markdown",
   "id": "33be9d98",
   "metadata": {},
   "source": [
    "# while Loops\n",
    "\"while\" loops continue to execute a block of code while some condition remains true."
   ]
  },
  {
   "cell_type": "code",
   "execution_count": 6,
   "id": "746013ca",
   "metadata": {},
   "outputs": [
    {
     "name": "stdout",
     "output_type": "stream",
     "text": [
      "The current value is 0\n",
      "The current value is 1\n",
      "The current value is 2\n",
      "The current value is 3\n",
      "The current value is 4\n",
      "The current value is 5\n",
      "The current value is 6\n",
      "The current value is 7\n",
      "The current value is 8\n",
      "The current value is 9\n"
     ]
    }
   ],
   "source": [
    "# Example 1\n",
    "value = 0\n",
    "\n",
    "while value < 10:\n",
    "    print('The current value is {}'.format(value))\n",
    "    value = value + 1"
   ]
  },
  {
   "cell_type": "code",
   "execution_count": 7,
   "id": "d77a155a",
   "metadata": {},
   "outputs": [
    {
     "name": "stdout",
     "output_type": "stream",
     "text": [
      "The current value is 0\n",
      "The current value is 1\n",
      "The current value is 2\n",
      "The current value is 3\n",
      "The current value is 4\n",
      "The current value is 5\n",
      "The current value is 6\n",
      "The current value is 7\n",
      "The current value is 8\n",
      "The current value is 9\n",
      "The end of the while loop!\n"
     ]
    }
   ],
   "source": [
    "# Example 2\n",
    "value = 0\n",
    "\n",
    "while value < 10:\n",
    "    print('The current value is {}'.format(value))\n",
    "    value = value + 1\n",
    "else:\n",
    "    print('The end of the while loop!')"
   ]
  },
  {
   "cell_type": "code",
   "execution_count": 8,
   "id": "b0ce92ce",
   "metadata": {},
   "outputs": [
    {
     "name": "stdout",
     "output_type": "stream",
     "text": [
      "The current value is 0\n",
      "The current value is less than 10.\n",
      "...\n",
      "The current value is 1\n",
      "The current value is less than 10.\n",
      "...\n",
      "The current value is 2\n",
      "The current value is less than 10.\n",
      "...\n",
      "The current value is 3\n",
      "The current value is less than 10.\n",
      "...\n",
      "The current value is 4\n",
      "The current value is less than 10.\n",
      "...\n",
      "The current value is 5\n",
      "The current value is less than 10.\n",
      "...\n",
      "The current value is 6\n",
      "The current value is less than 10.\n",
      "777\n",
      "The current value is 7\n",
      "The current value is less than 10.\n",
      "...\n",
      "The current value is 8\n",
      "The current value is less than 10.\n",
      "...\n",
      "The current value is 9\n",
      "The current value is less than 10.\n",
      "...\n"
     ]
    }
   ],
   "source": [
    "# Example 3\n",
    "value = 0\n",
    "\n",
    "while value < 10:\n",
    "    print('The current value is {}'.format(value))\n",
    "    print('The current value is less than 10.')\n",
    "    value = value + 1\n",
    "    \n",
    "    if value == 7:\n",
    "        print('777')\n",
    "    else:\n",
    "        print('...')\n",
    "        continue"
   ]
  },
  {
   "cell_type": "code",
   "execution_count": 9,
   "id": "54437e63",
   "metadata": {},
   "outputs": [
    {
     "name": "stdout",
     "output_type": "stream",
     "text": [
      "The current value is 0\n",
      "The current value is less than 10.\n",
      "...\n",
      "The current value is 1\n",
      "The current value is less than 10.\n",
      "...\n",
      "The current value is 2\n",
      "The current value is less than 10.\n",
      "...\n",
      "The current value is 3\n",
      "The current value is less than 10.\n",
      "...\n",
      "The current value is 4\n",
      "The current value is less than 10.\n",
      "...\n",
      "The current value is 5\n",
      "The current value is less than 10.\n",
      "...\n",
      "The current value is 6\n",
      "The current value is less than 10.\n",
      "777\n",
      "Breaking because the current value is 7!\n"
     ]
    }
   ],
   "source": [
    "# Example 3\n",
    "value = 0\n",
    "\n",
    "while value < 10:\n",
    "    print('The current value is {}'.format(value))\n",
    "    print('The current value is less than 10.')\n",
    "    value = value + 1\n",
    "    \n",
    "    if value == 7:\n",
    "        print('777')\n",
    "        print('Breaking because the current value is 7!')\n",
    "        break\n",
    "    else:\n",
    "        print('...')\n",
    "        continue"
   ]
  },
  {
   "cell_type": "markdown",
   "id": "b275b384",
   "metadata": {},
   "source": [
    "# for Loops\n",
    "\"for\" loops iterate over every element in an iterable object."
   ]
  },
  {
   "cell_type": "code",
   "execution_count": 10,
   "id": "17a69783",
   "metadata": {},
   "outputs": [
    {
     "name": "stdout",
     "output_type": "stream",
     "text": [
      "1\n",
      "2\n",
      "3\n",
      "4\n",
      "5\n",
      "6\n",
      "7\n",
      "8\n",
      "9\n",
      "10\n"
     ]
    }
   ],
   "source": [
    "# Example 1\n",
    "list1 = [1, 2, 3, 4, 5, 6, 7, 8, 9, 10]\n",
    "\n",
    "for number in list1:\n",
    "    print(number)"
   ]
  },
  {
   "cell_type": "code",
   "execution_count": 11,
   "id": "e6466017",
   "metadata": {},
   "outputs": [
    {
     "name": "stdout",
     "output_type": "stream",
     "text": [
      "1 is odd.\n",
      "2 is even.\n",
      "3 is odd.\n",
      "4 is even.\n",
      "5 is odd.\n",
      "6 is even.\n",
      "7 is odd.\n",
      "8 is even.\n",
      "9 is odd.\n",
      "10 is even.\n"
     ]
    }
   ],
   "source": [
    "# Example 2\n",
    "list2 = [1, 2, 3, 4, 5, 6, 7, 8, 9, 10]\n",
    "\n",
    "for number in list2:\n",
    "    if number % 2 == 0:\n",
    "        print('{} is even.'.format(number))\n",
    "    else:\n",
    "        print('{} is odd.'.format(number))"
   ]
  },
  {
   "cell_type": "code",
   "execution_count": 12,
   "id": "239c50d7",
   "metadata": {},
   "outputs": [
    {
     "name": "stdout",
     "output_type": "stream",
     "text": [
      "The summation is 55.\n"
     ]
    }
   ],
   "source": [
    "# Example 3\n",
    "sum = 0\n",
    "list3 = [1, 2, 3, 4, 5, 6, 7, 8, 9, 10]\n",
    "\n",
    "for number in list3:\n",
    "    sum = sum + number\n",
    "    \n",
    "print('The summation is {}.'.format(sum))"
   ]
  },
  {
   "cell_type": "code",
   "execution_count": 13,
   "id": "c6d21d21",
   "metadata": {},
   "outputs": [
    {
     "name": "stdout",
     "output_type": "stream",
     "text": [
      "The first number is 1 and the second number is 2.\n",
      "The first number is 3 and the second number is 4.\n",
      "The first number is 5 and the second number is 6.\n"
     ]
    }
   ],
   "source": [
    "# Example 4\n",
    "list4 = [(1,2), (3,4), (5,6)]\n",
    "\n",
    "for (t1,t2) in list4:\n",
    "    print('The first number is {} and the second number is {}.'.format(t1, t2))"
   ]
  },
  {
   "cell_type": "code",
   "execution_count": 14,
   "id": "1c89a96d",
   "metadata": {},
   "outputs": [
    {
     "name": "stdout",
     "output_type": "stream",
     "text": [
      "The key is key1 and the value is 1\n",
      "The key is key2 and the value is 2\n",
      "The key is key3 and the value is 3\n"
     ]
    }
   ],
   "source": [
    "# Example 5\n",
    "dict1 = {'key1':1, 'key2':2, 'key3':3}\n",
    "\n",
    "for k, v in dict1.items():\n",
    "    print('The key is {} and the value is {}'.format(k, v))"
   ]
  },
  {
   "cell_type": "code",
   "execution_count": 15,
   "id": "f9a76c4a",
   "metadata": {},
   "outputs": [
    {
     "name": "stdout",
     "output_type": "stream",
     "text": [
      "M\n",
      "y\n",
      " \n",
      "n\n",
      "a\n",
      "m\n",
      "e\n",
      " \n",
      "i\n",
      "s\n",
      " \n",
      "B\n",
      "e\n",
      "r\n",
      "t\n",
      "a\n",
      "n\n",
      ".\n"
     ]
    }
   ],
   "source": [
    "# Example 6\n",
    "string1 = 'My name is Bertan.'\n",
    "\n",
    "for letter in string1:\n",
    "    print(letter)"
   ]
  },
  {
   "cell_type": "markdown",
   "id": "e558e295",
   "metadata": {},
   "source": [
    "# Useful Operators\n",
    "Useful operations help for specific needs in codes."
   ]
  },
  {
   "cell_type": "code",
   "execution_count": 16,
   "id": "b51b8dac",
   "metadata": {},
   "outputs": [
    {
     "data": {
      "text/plain": [
       "[0, 2, 4, 6, 8, 10]"
      ]
     },
     "execution_count": 16,
     "metadata": {},
     "output_type": "execute_result"
    }
   ],
   "source": [
    "# Range\n",
    "list(range(0,11,2))"
   ]
  },
  {
   "cell_type": "code",
   "execution_count": 17,
   "id": "b19f383a",
   "metadata": {},
   "outputs": [
    {
     "data": {
      "text/plain": [
       "[(0, 'a'), (1, 'b'), (2, 'c'), (3, 'd'), (4, 'e')]"
      ]
     },
     "execution_count": 17,
     "metadata": {},
     "output_type": "execute_result"
    }
   ],
   "source": [
    "# Enumerate\n",
    "list(enumerate('abcde'))"
   ]
  },
  {
   "cell_type": "code",
   "execution_count": 18,
   "id": "44389793",
   "metadata": {},
   "outputs": [
    {
     "data": {
      "text/plain": [
       "[(0, 'a'), (1, 'b'), (2, 'c'), (3, 'd'), (4, 'e')]"
      ]
     },
     "execution_count": 18,
     "metadata": {},
     "output_type": "execute_result"
    }
   ],
   "source": [
    "# Zip\n",
    "list(zip([0, 1, 2, 3, 4], ['a', 'b', 'c', 'd', 'e']))"
   ]
  },
  {
   "cell_type": "code",
   "execution_count": 19,
   "id": "1edc958b",
   "metadata": {},
   "outputs": [
    {
     "data": {
      "text/plain": [
       "True"
      ]
     },
     "execution_count": 19,
     "metadata": {},
     "output_type": "execute_result"
    }
   ],
   "source": [
    "# In\n",
    "'x' in ['x','y','z']"
   ]
  },
  {
   "cell_type": "code",
   "execution_count": 20,
   "id": "1501cf81",
   "metadata": {},
   "outputs": [
    {
     "data": {
      "text/plain": [
       "False"
      ]
     },
     "execution_count": 20,
     "metadata": {},
     "output_type": "execute_result"
    }
   ],
   "source": [
    "# Not in\n",
    "'x' not in ['x','y','z']"
   ]
  },
  {
   "cell_type": "code",
   "execution_count": 21,
   "id": "41f23f84",
   "metadata": {},
   "outputs": [
    {
     "data": {
      "text/plain": [
       "0"
      ]
     },
     "execution_count": 21,
     "metadata": {},
     "output_type": "execute_result"
    }
   ],
   "source": [
    "# Min\n",
    "min([0, 1, 2, 3, 4, 5])"
   ]
  },
  {
   "cell_type": "code",
   "execution_count": 22,
   "id": "12b121ca",
   "metadata": {},
   "outputs": [
    {
     "data": {
      "text/plain": [
       "5"
      ]
     },
     "execution_count": 22,
     "metadata": {},
     "output_type": "execute_result"
    }
   ],
   "source": [
    "# Max\n",
    "max([0, 1, 2, 3, 4, 5])"
   ]
  },
  {
   "cell_type": "code",
   "execution_count": 23,
   "id": "961f2230",
   "metadata": {},
   "outputs": [
    {
     "name": "stdout",
     "output_type": "stream",
     "text": [
      "[1, 4, 2, 5, 0, 3]\n",
      "99\n"
     ]
    }
   ],
   "source": [
    "# Random\n",
    "from random import shuffle, randint\n",
    "list5 = [0, 1, 2, 3, 4, 5]\n",
    "shuffle(list5)\n",
    "print(list5)\n",
    "\n",
    "random_number = randint(0,100)\n",
    "print(random_number)"
   ]
  },
  {
   "cell_type": "code",
   "execution_count": 24,
   "id": "70839e08",
   "metadata": {},
   "outputs": [
    {
     "name": "stdout",
     "output_type": "stream",
     "text": [
      "Enter: Hello!\n"
     ]
    },
    {
     "data": {
      "text/plain": [
       "'Hello!'"
      ]
     },
     "execution_count": 24,
     "metadata": {},
     "output_type": "execute_result"
    }
   ],
   "source": [
    "# Input\n",
    "input('Enter: ')"
   ]
  },
  {
   "cell_type": "markdown",
   "id": "6fc1ff74",
   "metadata": {},
   "source": [
    "# List Comprehensions\n",
    " List comprehensions are a unique way of quickly creating a list."
   ]
  },
  {
   "cell_type": "code",
   "execution_count": 25,
   "id": "1ea7e154",
   "metadata": {},
   "outputs": [
    {
     "data": {
      "text/plain": [
       "['l', 'e', 't', 't', 'e', 'r', 's']"
      ]
     },
     "execution_count": 25,
     "metadata": {},
     "output_type": "execute_result"
    }
   ],
   "source": [
    "# Example 1\n",
    "list6 = [l for l in 'letters']\n",
    "list6"
   ]
  },
  {
   "cell_type": "code",
   "execution_count": 26,
   "id": "55bd1e48",
   "metadata": {},
   "outputs": [
    {
     "data": {
      "text/plain": [
       "[0, 1, 4, 9, 16, 25, 36, 49, 64, 81, 100]"
      ]
     },
     "execution_count": 26,
     "metadata": {},
     "output_type": "execute_result"
    }
   ],
   "source": [
    "# Example 2\n",
    "list7 = [x**2 for x in range(11)]\n",
    "list7"
   ]
  },
  {
   "cell_type": "code",
   "execution_count": 27,
   "id": "a5b65669",
   "metadata": {},
   "outputs": [
    {
     "data": {
      "text/plain": [
       "[0, 2, 4, 6, 8, 10]"
      ]
     },
     "execution_count": 27,
     "metadata": {},
     "output_type": "execute_result"
    }
   ],
   "source": [
    "# Example 3\n",
    "list8 = [x for x in range(11) if x % 2 == 0]\n",
    "list8"
   ]
  },
  {
   "cell_type": "code",
   "execution_count": 28,
   "id": "1412fae1",
   "metadata": {},
   "outputs": [
    {
     "data": {
      "text/plain": [
       "[32.0, 50.0, 68.18, 94.1]"
      ]
     },
     "execution_count": 28,
     "metadata": {},
     "output_type": "execute_result"
    }
   ],
   "source": [
    "# Example 4\n",
    "celsius = [0,10,20.1,34.5]\n",
    "\n",
    "list9 = [((9/5)*temp + 32) for temp in celsius ]\n",
    "list9"
   ]
  },
  {
   "cell_type": "code",
   "execution_count": 29,
   "id": "45e04d1d",
   "metadata": {},
   "outputs": [
    {
     "data": {
      "text/plain": [
       "[0, 1, 16, 81, 256, 625, 1296, 2401, 4096, 6561, 10000]"
      ]
     },
     "execution_count": 29,
     "metadata": {},
     "output_type": "execute_result"
    }
   ],
   "source": [
    "# Example 5\n",
    "list10 = [ x**2 for x in [x**2 for x in range(11)]]\n",
    "list10"
   ]
  }
 ],
 "metadata": {
  "kernelspec": {
   "display_name": "Python 3 (ipykernel)",
   "language": "python",
   "name": "python3"
  },
  "language_info": {
   "codemirror_mode": {
    "name": "ipython",
    "version": 3
   },
   "file_extension": ".py",
   "mimetype": "text/x-python",
   "name": "python",
   "nbconvert_exporter": "python",
   "pygments_lexer": "ipython3",
   "version": "3.9.16"
  }
 },
 "nbformat": 4,
 "nbformat_minor": 5
}

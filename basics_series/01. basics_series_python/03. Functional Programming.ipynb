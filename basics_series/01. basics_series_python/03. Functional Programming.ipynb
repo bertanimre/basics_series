{
 "cells": [
  {
   "cell_type": "markdown",
   "id": "45df73c2",
   "metadata": {},
   "source": [
    "# Methods\n",
    "Methods are essentially functions built into objects and have an argument 'self' referring to the objects themselves. They perform specific actions on objects and can also take arguments, just like functions."
   ]
  },
  {
   "cell_type": "code",
   "execution_count": 1,
   "id": "7ef023da",
   "metadata": {},
   "outputs": [
    {
     "data": {
      "text/plain": [
       "[1, 2, 3, 4]"
      ]
     },
     "execution_count": 1,
     "metadata": {},
     "output_type": "execute_result"
    }
   ],
   "source": [
    "# Example 1\n",
    "list1 = [1, 2, 3]\n",
    "list1.append(4)\n",
    "list1"
   ]
  },
  {
   "cell_type": "code",
   "execution_count": 2,
   "id": "cbc76a06",
   "metadata": {},
   "outputs": [
    {
     "data": {
      "text/plain": [
       "0"
      ]
     },
     "execution_count": 2,
     "metadata": {},
     "output_type": "execute_result"
    }
   ],
   "source": [
    "# Example 2\n",
    "tuple1 = (1, 2, 3)\n",
    "tuple1.index(1)"
   ]
  },
  {
   "cell_type": "code",
   "execution_count": 3,
   "id": "1eb55a4c",
   "metadata": {},
   "outputs": [
    {
     "data": {
      "text/plain": [
       "{1, 2}"
      ]
     },
     "execution_count": 3,
     "metadata": {},
     "output_type": "execute_result"
    }
   ],
   "source": [
    "# Example 3\n",
    "set1 = {1, 2, 3}\n",
    "set1.discard(3)\n",
    "set1"
   ]
  },
  {
   "cell_type": "code",
   "execution_count": 4,
   "id": "932bc08d",
   "metadata": {},
   "outputs": [
    {
     "data": {
      "text/plain": [
       "dict_items([('key1', 1), ('key2', 2), ('key3', 3)])"
      ]
     },
     "execution_count": 4,
     "metadata": {},
     "output_type": "execute_result"
    }
   ],
   "source": [
    "# Examle 4\n",
    "dict1 = {'key1':1, 'key2':2, 'key3':3}\n",
    "dict1.items()"
   ]
  },
  {
   "cell_type": "code",
   "execution_count": 5,
   "id": "a828a4fa",
   "metadata": {},
   "outputs": [
    {
     "data": {
      "text/plain": [
       "'HELLO!'"
      ]
     },
     "execution_count": 5,
     "metadata": {},
     "output_type": "execute_result"
    }
   ],
   "source": [
    "# Example 5\n",
    "string1 = 'Hello!'\n",
    "string1.upper()"
   ]
  },
  {
   "cell_type": "code",
   "execution_count": 6,
   "id": "83589471",
   "metadata": {},
   "outputs": [
    {
     "name": "stdout",
     "output_type": "stream",
     "text": [
      "Help on built-in function upper:\n",
      "\n",
      "upper() method of builtins.str instance\n",
      "    Return a copy of the string converted to uppercase.\n",
      "\n"
     ]
    }
   ],
   "source": [
    "# Help\n",
    "help(string1.upper)"
   ]
  },
  {
   "cell_type": "markdown",
   "id": "8ee5684e",
   "metadata": {},
   "source": [
    "# Functions\n",
    "Functions allow us to create blocks of code that can be easily executed many times, without needing to constantly rewrite the entire block of code."
   ]
  },
  {
   "cell_type": "code",
   "execution_count": 7,
   "id": "c01dad92",
   "metadata": {},
   "outputs": [
    {
     "name": "stdout",
     "output_type": "stream",
     "text": [
      "Hello Bertan!\n"
     ]
    }
   ],
   "source": [
    "# Example 1\n",
    "def say_hello(name):\n",
    "    print('Hello {}!'.format(name))\n",
    "    \n",
    "say_hello('Bertan')"
   ]
  },
  {
   "cell_type": "code",
   "execution_count": 8,
   "id": "53bfa885",
   "metadata": {},
   "outputs": [
    {
     "data": {
      "text/plain": [
       "5"
      ]
     },
     "execution_count": 8,
     "metadata": {},
     "output_type": "execute_result"
    }
   ],
   "source": [
    "# Example 2\n",
    "def do_math(number1, number2):\n",
    "    return number1 + number2\n",
    "\n",
    "result = do_math(2, 3)\n",
    "result"
   ]
  },
  {
   "cell_type": "code",
   "execution_count": 9,
   "id": "15e4fc70",
   "metadata": {},
   "outputs": [
    {
     "data": {
      "text/plain": [
       "True"
      ]
     },
     "execution_count": 9,
     "metadata": {},
     "output_type": "execute_result"
    }
   ],
   "source": [
    "# Example 3\n",
    "def even_check(number):\n",
    "    return number % 2 == 0\n",
    "\n",
    "even_check(10)"
   ]
  },
  {
   "cell_type": "code",
   "execution_count": 10,
   "id": "55f861c2",
   "metadata": {},
   "outputs": [
    {
     "data": {
      "text/plain": [
       "True"
      ]
     },
     "execution_count": 10,
     "metadata": {},
     "output_type": "execute_result"
    }
   ],
   "source": [
    "# Example 4\n",
    "list2 = [1, 2, 3, 4, 5]\n",
    "\n",
    "def even_check_list(number_list):\n",
    "    for number in number_list:\n",
    "        if number % 2 == 0:\n",
    "            return True\n",
    "        else:\n",
    "            pass\n",
    "    return False\n",
    "        \n",
    "even_check_list(list2)"
   ]
  },
  {
   "cell_type": "code",
   "execution_count": 11,
   "id": "7b93fb44",
   "metadata": {},
   "outputs": [
    {
     "data": {
      "text/plain": [
       "('James', 38411)"
      ]
     },
     "execution_count": 11,
     "metadata": {},
     "output_type": "execute_result"
    }
   ],
   "source": [
    "# Example 5\n",
    "scores = [('James', 38411), ('Bryant', 33643), ('Nowitzki', 31560)]\n",
    "\n",
    "def score_check(scores):\n",
    "    '''\n",
    "    Set some max value to intially beat, like zero hours\n",
    "    Set some empty value before the loop\n",
    "    Start the loop\n",
    "    Notice the indentation\n",
    "    '''\n",
    "    \n",
    "    max_score = 0\n",
    "    most_scored = ''\n",
    "    \n",
    "    for player, score in scores:\n",
    "        if score > max_score:\n",
    "            max_score = score\n",
    "            most_scored = player\n",
    "        else:\n",
    "            pass\n",
    "    \n",
    "    return (most_scored, max_score)\n",
    "            \n",
    "score_check(scores)"
   ]
  },
  {
   "cell_type": "markdown",
   "id": "6ef079c7",
   "metadata": {},
   "source": [
    "# Nested Statements and Scope\n",
    "Variable names have a scope, the scope determines the visibility of that variable name to other parts of your code. There are 4 reference search scopes: local, enclosing functions, global, built-in."
   ]
  },
  {
   "cell_type": "code",
   "execution_count": 12,
   "id": "d6916b1e",
   "metadata": {},
   "outputs": [],
   "source": [
    "# Variable assignment\n",
    "name = 'global name!'"
   ]
  },
  {
   "cell_type": "code",
   "execution_count": 13,
   "id": "cc0eba8c",
   "metadata": {},
   "outputs": [
    {
     "name": "stdout",
     "output_type": "stream",
     "text": [
      "This is a local name!\n"
     ]
    }
   ],
   "source": [
    "# Local\n",
    "def local_name():\n",
    "    name = 'local name!'\n",
    "    print('This is a {}'.format(name))\n",
    "    \n",
    "local_name()"
   ]
  },
  {
   "cell_type": "code",
   "execution_count": 14,
   "id": "8ed68db6",
   "metadata": {},
   "outputs": [
    {
     "name": "stdout",
     "output_type": "stream",
     "text": [
      "This is a enclosing function name!\n"
     ]
    }
   ],
   "source": [
    "# Enclosing functions\n",
    "def enclosing_function_name():\n",
    "    # Enclosing function\n",
    "    name = 'enclosing function name!'\n",
    "    \n",
    "    def hello():\n",
    "        print('This is a {}'.format(name))\n",
    "    \n",
    "    hello()\n",
    "\n",
    "enclosing_function_name()"
   ]
  },
  {
   "cell_type": "code",
   "execution_count": 15,
   "id": "b1a8a234",
   "metadata": {},
   "outputs": [
    {
     "name": "stdout",
     "output_type": "stream",
     "text": [
      "This is a global name!\n"
     ]
    }
   ],
   "source": [
    "# Global\n",
    "print('This is a {}'.format(name))"
   ]
  },
  {
   "cell_type": "code",
   "execution_count": 16,
   "id": "9c611f69",
   "metadata": {},
   "outputs": [
    {
     "data": {
      "text/plain": [
       "<function len(obj, /)>"
      ]
     },
     "execution_count": 16,
     "metadata": {},
     "output_type": "execute_result"
    }
   ],
   "source": [
    "# Built-in\n",
    "len"
   ]
  },
  {
   "cell_type": "code",
   "execution_count": 17,
   "id": "a95806da",
   "metadata": {},
   "outputs": [
    {
     "name": "stdout",
     "output_type": "stream",
     "text": [
      "x is 50\n",
      "Changed local x to 2\n",
      "x is still 50\n"
     ]
    }
   ],
   "source": [
    "# Example\n",
    "x = 50\n",
    "\n",
    "def func(x):\n",
    "    print('x is {}'.format(x))\n",
    "    x = 2\n",
    "    print('Changed local x to {}'.format(x))\n",
    "\n",
    "func(x)\n",
    "print('x is still {}'.format(x))"
   ]
  },
  {
   "cell_type": "markdown",
   "id": "3b1b6139",
   "metadata": {},
   "source": [
    "# args and kwargs\n",
    "args allows for an arbitrary number of arguments, and the function takes them in as a tuple of values. kwargs allows for anarbitrary numbers of keyworded argument and the function takes them as a dictionary of key/value pairs."
   ]
  },
  {
   "cell_type": "code",
   "execution_count": 18,
   "id": "faaed02c",
   "metadata": {},
   "outputs": [
    {
     "data": {
      "text/plain": [
       "65.0"
      ]
     },
     "execution_count": 18,
     "metadata": {},
     "output_type": "execute_result"
    }
   ],
   "source": [
    "def half_of_sum(*args):\n",
    "    return sum(args) / 2 \n",
    "\n",
    "half_of_sum(40, 60, 20, 10)"
   ]
  },
  {
   "cell_type": "code",
   "execution_count": 19,
   "id": "c18e6314",
   "metadata": {},
   "outputs": [
    {
     "name": "stdout",
     "output_type": "stream",
     "text": [
      "My favorite fruit is strawberry.\n",
      "I don't like fruit.\n"
     ]
    }
   ],
   "source": [
    "# kwargs\n",
    "def favorite_fruit(**kwargs):\n",
    "    if 'fruit' in kwargs:\n",
    "        print(\"My favorite fruit is {}.\".format(kwargs['fruit']))\n",
    "    else:\n",
    "        print(\"I don't like fruit.\")\n",
    "        \n",
    "favorite_fruit(fruit='strawberry')\n",
    "favorite_fruit()"
   ]
  },
  {
   "cell_type": "markdown",
   "id": "b88ebff2",
   "metadata": {},
   "source": [
    "# Lambda Expressions\n",
    "Lambda expressions allow us to create \"anonymous\" functions. They are designed for coding simple functions."
   ]
  },
  {
   "cell_type": "code",
   "execution_count": 20,
   "id": "7caa30c5",
   "metadata": {},
   "outputs": [],
   "source": [
    "# Function with def\n",
    "def square(num):\n",
    "    result = num**2\n",
    "    return result"
   ]
  },
  {
   "cell_type": "code",
   "execution_count": 21,
   "id": "75c0cbee",
   "metadata": {},
   "outputs": [
    {
     "data": {
      "text/plain": [
       "<function __main__.<lambda>(num)>"
      ]
     },
     "execution_count": 21,
     "metadata": {},
     "output_type": "execute_result"
    }
   ],
   "source": [
    "# Function with lambda expression\n",
    "lambda num: num ** 2"
   ]
  },
  {
   "cell_type": "code",
   "execution_count": 22,
   "id": "dffaf374",
   "metadata": {},
   "outputs": [
    {
     "data": {
      "text/plain": [
       "<function __main__.<lambda>(x)>"
      ]
     },
     "execution_count": 22,
     "metadata": {},
     "output_type": "execute_result"
    }
   ],
   "source": [
    "# Lambda expression with condition\n",
    "lambda x : print(\"{} is even\".format(x)) if x %2==0 else print(\"{} is odd\".format(x))"
   ]
  },
  {
   "cell_type": "code",
   "execution_count": 23,
   "id": "6d6ec2f4",
   "metadata": {},
   "outputs": [],
   "source": [
    "# Variable assignment\n",
    "list3 = [0, 1, 2, 3, 4, 5, 6, 7, 8, 9, 10]"
   ]
  },
  {
   "cell_type": "code",
   "execution_count": 24,
   "id": "ecb90201",
   "metadata": {},
   "outputs": [
    {
     "data": {
      "text/plain": [
       "[0, 1, 4, 9, 16, 25, 36, 49, 64, 81, 100]"
      ]
     },
     "execution_count": 24,
     "metadata": {},
     "output_type": "execute_result"
    }
   ],
   "source": [
    "# Map\n",
    "list(map(lambda num: num ** 2, list3))"
   ]
  },
  {
   "cell_type": "code",
   "execution_count": 25,
   "id": "57bdde5f",
   "metadata": {},
   "outputs": [
    {
     "data": {
      "text/plain": [
       "[0, 2, 4, 6, 8, 10]"
      ]
     },
     "execution_count": 25,
     "metadata": {},
     "output_type": "execute_result"
    }
   ],
   "source": [
    "# Filter\n",
    "list(filter(lambda n: n % 2 == 0,list3))"
   ]
  }
 ],
 "metadata": {
  "kernelspec": {
   "display_name": "Python 3 (ipykernel)",
   "language": "python",
   "name": "python3"
  },
  "language_info": {
   "codemirror_mode": {
    "name": "ipython",
    "version": 3
   },
   "file_extension": ".py",
   "mimetype": "text/x-python",
   "name": "python",
   "nbconvert_exporter": "python",
   "pygments_lexer": "ipython3",
   "version": "3.9.16"
  }
 },
 "nbformat": 4,
 "nbformat_minor": 5
}

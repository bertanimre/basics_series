{
 "cells": [
  {
   "cell_type": "markdown",
   "id": "d62bed48",
   "metadata": {},
   "source": [
    "# Errors and Exception Handling\n",
    "Errors detected during execution are called exceptions. The basic terminology and syntax used to handle errors in Python are the try and except statements."
   ]
  },
  {
   "cell_type": "code",
   "execution_count": 1,
   "id": "a643e47c",
   "metadata": {},
   "outputs": [
    {
     "name": "stdout",
     "output_type": "stream",
     "text": [
      "Error: Could not find file or read data\n"
     ]
    }
   ],
   "source": [
    "# Try and except\n",
    "try:\n",
    "    f = open('testfile','r')\n",
    "    f.write('Test write this')\n",
    "except IOError:\n",
    "    # This will only check for an IOError exception and then execute this print statement\n",
    "    print(\"Error: Could not find file or read data\")\n",
    "else:\n",
    "    print(\"Content written successfully\")\n",
    "    f.close()"
   ]
  },
  {
   "cell_type": "code",
   "execution_count": 2,
   "id": "b1023f20",
   "metadata": {},
   "outputs": [
    {
     "name": "stdout",
     "output_type": "stream",
     "text": [
      "Please enter an integer: Hello\n",
      "Looks like you did not enter an integer!\n",
      "Finally, I executed!\n",
      "Please enter an integer: 314\n",
      "Yep that's an integer!\n",
      "314\n",
      "Finally, I executed!\n"
     ]
    }
   ],
   "source": [
    "# Try, except, and finally\n",
    "while True:\n",
    "    try:\n",
    "        val = int(input(\"Please enter an integer: \"))\n",
    "    except:\n",
    "        print(\"Looks like you did not enter an integer!\")\n",
    "        continue\n",
    "    else:\n",
    "        print(\"Yep that's an integer!\")\n",
    "        print(val)\n",
    "        break\n",
    "    finally:\n",
    "        print(\"Finally, I executed!\")"
   ]
  }
 ],
 "metadata": {
  "kernelspec": {
   "display_name": "Python 3 (ipykernel)",
   "language": "python",
   "name": "python3"
  },
  "language_info": {
   "codemirror_mode": {
    "name": "ipython",
    "version": 3
   },
   "file_extension": ".py",
   "mimetype": "text/x-python",
   "name": "python",
   "nbconvert_exporter": "python",
   "pygments_lexer": "ipython3",
   "version": "3.9.16"
  }
 },
 "nbformat": 4,
 "nbformat_minor": 5
}

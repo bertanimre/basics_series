{
 "cells": [
  {
   "cell_type": "markdown",
   "id": "7ec43317",
   "metadata": {},
   "source": [
    "# Basic Data Types\n",
    "There are 8 basic data types in Python programming language:\n",
    "* Integers (int)\n",
    "* Floating points (float)\n",
    "* Strings (str)\n",
    "* Lists (list)\n",
    "* Tuples (tuple)\n",
    "* Sets (set)\n",
    "* Dictionaries (dict)\n",
    "* Booleans (bool)\n",
    "\n",
    "These data types can be assigned to variables. Python uses dynamic typing."
   ]
  },
  {
   "cell_type": "markdown",
   "id": "1a39ce6c",
   "metadata": {},
   "source": [
    "# Numbers\n",
    "There are 2 main types of numbers in Python programming language: \n",
    "* Integers which are whole numbers\n",
    "* Floating points which are numbers with a decimal point\n",
    "\n",
    "Arithmetic operations can be done with numbers. The order of the operations is as in mathematics."
   ]
  },
  {
   "cell_type": "code",
   "execution_count": 1,
   "id": "77e66ce0",
   "metadata": {},
   "outputs": [
    {
     "data": {
      "text/plain": [
       "5"
      ]
     },
     "execution_count": 1,
     "metadata": {},
     "output_type": "execute_result"
    }
   ],
   "source": [
    "# Addition\n",
    "2+3"
   ]
  },
  {
   "cell_type": "code",
   "execution_count": 2,
   "id": "bb59fd9c",
   "metadata": {},
   "outputs": [
    {
     "data": {
      "text/plain": [
       "2"
      ]
     },
     "execution_count": 2,
     "metadata": {},
     "output_type": "execute_result"
    }
   ],
   "source": [
    "# Subtraction\n",
    "5-3"
   ]
  },
  {
   "cell_type": "code",
   "execution_count": 3,
   "id": "2dfa6f48",
   "metadata": {},
   "outputs": [
    {
     "data": {
      "text/plain": [
       "10"
      ]
     },
     "execution_count": 3,
     "metadata": {},
     "output_type": "execute_result"
    }
   ],
   "source": [
    "# Multiplication\n",
    "2*5"
   ]
  },
  {
   "cell_type": "code",
   "execution_count": 4,
   "id": "67870423",
   "metadata": {},
   "outputs": [
    {
     "data": {
      "text/plain": [
       "2.5"
      ]
     },
     "execution_count": 4,
     "metadata": {},
     "output_type": "execute_result"
    }
   ],
   "source": [
    "# Division\n",
    "5/2"
   ]
  },
  {
   "cell_type": "code",
   "execution_count": 5,
   "id": "ff0d8a43",
   "metadata": {},
   "outputs": [
    {
     "data": {
      "text/plain": [
       "2"
      ]
     },
     "execution_count": 5,
     "metadata": {},
     "output_type": "execute_result"
    }
   ],
   "source": [
    "# Floor division\n",
    "5//2"
   ]
  },
  {
   "cell_type": "code",
   "execution_count": 6,
   "id": "3ed0dae5",
   "metadata": {},
   "outputs": [
    {
     "data": {
      "text/plain": [
       "1"
      ]
     },
     "execution_count": 6,
     "metadata": {},
     "output_type": "execute_result"
    }
   ],
   "source": [
    "# Modulo\n",
    "5%2"
   ]
  },
  {
   "cell_type": "code",
   "execution_count": 7,
   "id": "a1f19cbb",
   "metadata": {},
   "outputs": [
    {
     "data": {
      "text/plain": [
       "8"
      ]
     },
     "execution_count": 7,
     "metadata": {},
     "output_type": "execute_result"
    }
   ],
   "source": [
    "# Power\n",
    "2**3"
   ]
  },
  {
   "cell_type": "code",
   "execution_count": 8,
   "id": "5e2ac6ed",
   "metadata": {
    "scrolled": true
   },
   "outputs": [
    {
     "data": {
      "text/plain": [
       "2.0"
      ]
     },
     "execution_count": 8,
     "metadata": {},
     "output_type": "execute_result"
    }
   ],
   "source": [
    "# Root\n",
    "4**0.5"
   ]
  },
  {
   "cell_type": "code",
   "execution_count": 9,
   "id": "06bef331",
   "metadata": {},
   "outputs": [
    {
     "data": {
      "text/plain": [
       "3.14"
      ]
     },
     "execution_count": 9,
     "metadata": {},
     "output_type": "execute_result"
    }
   ],
   "source": [
    "# Absolute value\n",
    "abs(-3.14)"
   ]
  },
  {
   "cell_type": "code",
   "execution_count": 10,
   "id": "407281ca",
   "metadata": {},
   "outputs": [
    {
     "data": {
      "text/plain": [
       "3.14"
      ]
     },
     "execution_count": 10,
     "metadata": {},
     "output_type": "execute_result"
    }
   ],
   "source": [
    "# Round\n",
    "round(3.1415926535,2)"
   ]
  },
  {
   "cell_type": "code",
   "execution_count": 11,
   "id": "e228b9b5",
   "metadata": {},
   "outputs": [
    {
     "data": {
      "text/plain": [
       "100.0"
      ]
     },
     "execution_count": 11,
     "metadata": {},
     "output_type": "execute_result"
    }
   ],
   "source": [
    "# Variable assignment\n",
    "investment = 1000\n",
    "\n",
    "interest_rate = 0.1 \n",
    "\n",
    "interest_earned = investment * interest_rate\n",
    "\n",
    "interest_earned"
   ]
  },
  {
   "cell_type": "code",
   "execution_count": 12,
   "id": "8444c223",
   "metadata": {},
   "outputs": [
    {
     "data": {
      "text/plain": [
       "20"
      ]
     },
     "execution_count": 12,
     "metadata": {},
     "output_type": "execute_result"
    }
   ],
   "source": [
    "# Reassign a variable\n",
    "x = 10\n",
    "\n",
    "x = x + 10\n",
    "# x += 10\n",
    "\n",
    "x"
   ]
  },
  {
   "cell_type": "code",
   "execution_count": 13,
   "id": "15176fe3",
   "metadata": {},
   "outputs": [
    {
     "data": {
      "text/plain": [
       "int"
      ]
     },
     "execution_count": 13,
     "metadata": {},
     "output_type": "execute_result"
    }
   ],
   "source": [
    "# Check the data type of a variable\n",
    "type(x)"
   ]
  },
  {
   "cell_type": "markdown",
   "id": "4e805608",
   "metadata": {},
   "source": [
    "# Strings\n",
    "Strings are ordered sequences of characters. They are immutable. Indexing and slicing are possible on strings."
   ]
  },
  {
   "cell_type": "code",
   "execution_count": 14,
   "id": "fb70ec7b",
   "metadata": {},
   "outputs": [
    {
     "data": {
      "text/plain": [
       "'Hello, my name is Bertan.'"
      ]
     },
     "execution_count": 14,
     "metadata": {},
     "output_type": "execute_result"
    }
   ],
   "source": [
    "# Êxample\n",
    "'Hello, my name is Bertan.'"
   ]
  },
  {
   "cell_type": "code",
   "execution_count": 15,
   "id": "386c81fe",
   "metadata": {},
   "outputs": [
    {
     "name": "stdout",
     "output_type": "stream",
     "text": [
      "Hello, my name is Bertan.\n",
      "\n",
      "\n",
      "How are you doing?\n"
     ]
    }
   ],
   "source": [
    "# Print a string\n",
    "print('Hello, my name is Bertan.')\n",
    "print('\\n')\n",
    "print('How are you doing?')"
   ]
  },
  {
   "cell_type": "code",
   "execution_count": 16,
   "id": "b3ad830e",
   "metadata": {},
   "outputs": [
    {
     "data": {
      "text/plain": [
       "25"
      ]
     },
     "execution_count": 16,
     "metadata": {},
     "output_type": "execute_result"
    }
   ],
   "source": [
    "# Length of a string\n",
    "len('Hello, my name is Bertan.')"
   ]
  },
  {
   "cell_type": "markdown",
   "id": "e1ebf872",
   "metadata": {},
   "source": [
    "###  Indexing and Slicing"
   ]
  },
  {
   "cell_type": "code",
   "execution_count": 17,
   "id": "929559d7",
   "metadata": {},
   "outputs": [
    {
     "data": {
      "text/plain": [
       "'Hello, my name is Bertan.'"
      ]
     },
     "execution_count": 17,
     "metadata": {},
     "output_type": "execute_result"
    }
   ],
   "source": [
    "# Variable assignment\n",
    "string1 = 'Hello, my name is Bertan.'\n",
    "string1"
   ]
  },
  {
   "cell_type": "code",
   "execution_count": 18,
   "id": "cd59b99a",
   "metadata": {},
   "outputs": [
    {
     "data": {
      "text/plain": [
       "'H'"
      ]
     },
     "execution_count": 18,
     "metadata": {},
     "output_type": "execute_result"
    }
   ],
   "source": [
    "# Grab the first term \n",
    "string1[0]"
   ]
  },
  {
   "cell_type": "code",
   "execution_count": 19,
   "id": "1530737b",
   "metadata": {},
   "outputs": [
    {
     "data": {
      "text/plain": [
       "'Hello, my name is Bertan.'"
      ]
     },
     "execution_count": 19,
     "metadata": {},
     "output_type": "execute_result"
    }
   ],
   "source": [
    "# Grab everything\n",
    "string1[:]"
   ]
  },
  {
   "cell_type": "code",
   "execution_count": 20,
   "id": "6bb86901",
   "metadata": {},
   "outputs": [
    {
     "data": {
      "text/plain": [
       "'ello, my name is Bertan.'"
      ]
     },
     "execution_count": 20,
     "metadata": {},
     "output_type": "execute_result"
    }
   ],
   "source": [
    "# Grab everything from the second term\n",
    "string1[1:]"
   ]
  },
  {
   "cell_type": "code",
   "execution_count": 21,
   "id": "5a461199",
   "metadata": {},
   "outputs": [
    {
     "data": {
      "text/plain": [
       "'Hel'"
      ]
     },
     "execution_count": 21,
     "metadata": {},
     "output_type": "execute_result"
    }
   ],
   "source": [
    "# Grab everything up to the fourth term\n",
    "string1[:3]"
   ]
  },
  {
   "cell_type": "code",
   "execution_count": 22,
   "id": "48354688",
   "metadata": {},
   "outputs": [
    {
     "data": {
      "text/plain": [
       "'my name is Bertan'"
      ]
     },
     "execution_count": 22,
     "metadata": {},
     "output_type": "execute_result"
    }
   ],
   "source": [
    "# Grab everything between the seventh and the last term\n",
    "string1[7:24]"
   ]
  },
  {
   "cell_type": "code",
   "execution_count": 23,
   "id": "3b5aeb26",
   "metadata": {},
   "outputs": [
    {
     "data": {
      "text/plain": [
       "'.'"
      ]
     },
     "execution_count": 23,
     "metadata": {},
     "output_type": "execute_result"
    }
   ],
   "source": [
    "# Grap the last term\n",
    "string1[-1]"
   ]
  },
  {
   "cell_type": "code",
   "execution_count": 24,
   "id": "31e9cc35",
   "metadata": {},
   "outputs": [
    {
     "data": {
      "text/plain": [
       "'Hello, my name is Bertan'"
      ]
     },
     "execution_count": 24,
     "metadata": {},
     "output_type": "execute_result"
    }
   ],
   "source": [
    "# Grab everything up to the last term\n",
    "string1[:-1]"
   ]
  },
  {
   "cell_type": "code",
   "execution_count": 25,
   "id": "2af7687a",
   "metadata": {},
   "outputs": [
    {
     "data": {
      "text/plain": [
       "'Hello, my name is Bertan.'"
      ]
     },
     "execution_count": 25,
     "metadata": {},
     "output_type": "execute_result"
    }
   ],
   "source": [
    "# Grab everything, but go in steps size of 1\n",
    "string1[::1]"
   ]
  },
  {
   "cell_type": "code",
   "execution_count": 26,
   "id": "03db3317",
   "metadata": {},
   "outputs": [
    {
     "data": {
      "text/plain": [
       "'Hlo ynm sBra.'"
      ]
     },
     "execution_count": 26,
     "metadata": {},
     "output_type": "execute_result"
    }
   ],
   "source": [
    "# Grab everything, but go in step sizes of 2\n",
    "string1[::2]"
   ]
  },
  {
   "cell_type": "code",
   "execution_count": 27,
   "id": "dbb45572",
   "metadata": {},
   "outputs": [
    {
     "data": {
      "text/plain": [
       "'.natreB si eman ym ,olleH'"
      ]
     },
     "execution_count": 27,
     "metadata": {},
     "output_type": "execute_result"
    }
   ],
   "source": [
    "# Grab everything backwards\n",
    "string1[::-1]"
   ]
  },
  {
   "cell_type": "markdown",
   "id": "66abb1b6",
   "metadata": {},
   "source": [
    "### Properties and Formating"
   ]
  },
  {
   "cell_type": "code",
   "execution_count": 28,
   "id": "a412355b",
   "metadata": {},
   "outputs": [
    {
     "data": {
      "text/plain": [
       "'xoxxoxxoxxoxxoxxoxxoxxoxxoxxox'"
      ]
     },
     "execution_count": 28,
     "metadata": {},
     "output_type": "execute_result"
    }
   ],
   "source": [
    "# Multiply a strig\n",
    "letter = 'xox'\n",
    "letter * 10"
   ]
  },
  {
   "cell_type": "code",
   "execution_count": 29,
   "id": "3aca4c24",
   "metadata": {},
   "outputs": [],
   "source": [
    "# Variable assignment\n",
    "string2 = 'Hello, my name is Bertan.'"
   ]
  },
  {
   "cell_type": "code",
   "execution_count": 30,
   "id": "32e632d1",
   "metadata": {},
   "outputs": [
    {
     "data": {
      "text/plain": [
       "'Hello, my name is Bertan. What is your name?'"
      ]
     },
     "execution_count": 30,
     "metadata": {},
     "output_type": "execute_result"
    }
   ],
   "source": [
    "# Concatenate strings\n",
    "string2 + ' What is your name?'"
   ]
  },
  {
   "cell_type": "code",
   "execution_count": 31,
   "id": "4cfd3377",
   "metadata": {},
   "outputs": [
    {
     "name": "stdout",
     "output_type": "stream",
     "text": [
      "Hello, my name is Bertan. What is your name?\n"
     ]
    }
   ],
   "source": [
    "# Reassign strigs completely\n",
    "string2 = string2 + ' What is your name?'\n",
    "print(string2)"
   ]
  },
  {
   "cell_type": "code",
   "execution_count": 32,
   "id": "340cd7c3",
   "metadata": {},
   "outputs": [
    {
     "data": {
      "text/plain": [
       "'Hello, my name is bertan. what is your name?'"
      ]
     },
     "execution_count": 32,
     "metadata": {},
     "output_type": "execute_result"
    }
   ],
   "source": [
    "# Capitalize the first word in a string\n",
    "string2.capitalize()"
   ]
  },
  {
   "cell_type": "code",
   "execution_count": 33,
   "id": "9e6df5f8",
   "metadata": {},
   "outputs": [
    {
     "data": {
      "text/plain": [
       "'HELLO, MY NAME IS BERTAN. WHAT IS YOUR NAME?'"
      ]
     },
     "execution_count": 33,
     "metadata": {},
     "output_type": "execute_result"
    }
   ],
   "source": [
    "# Upper case a string\n",
    "string2.upper()"
   ]
  },
  {
   "cell_type": "code",
   "execution_count": 34,
   "id": "e968e7a0",
   "metadata": {},
   "outputs": [
    {
     "data": {
      "text/plain": [
       "'hello, my name is bertan. what is your name?'"
      ]
     },
     "execution_count": 34,
     "metadata": {},
     "output_type": "execute_result"
    }
   ],
   "source": [
    "# Lower case a string\n",
    "string2.lower()"
   ]
  },
  {
   "cell_type": "code",
   "execution_count": 35,
   "id": "f25045ae",
   "metadata": {},
   "outputs": [
    {
     "data": {
      "text/plain": [
       "'hello, my name is bertan. what is your name?'"
      ]
     },
     "execution_count": 35,
     "metadata": {},
     "output_type": "execute_result"
    }
   ],
   "source": [
    "# To change a string requires reassignment\n",
    "string2 = string2.lower()\n",
    "string2"
   ]
  },
  {
   "cell_type": "code",
   "execution_count": 36,
   "id": "25468c9a",
   "metadata": {},
   "outputs": [
    {
     "data": {
      "text/plain": [
       "True"
      ]
     },
     "execution_count": 36,
     "metadata": {},
     "output_type": "execute_result"
    }
   ],
   "source": [
    "# Check if all cased characters in s are lowercase\n",
    "string2.islower()"
   ]
  },
  {
   "cell_type": "code",
   "execution_count": 37,
   "id": "9d563de2",
   "metadata": {},
   "outputs": [
    {
     "data": {
      "text/plain": [
       "4"
      ]
     },
     "execution_count": 37,
     "metadata": {},
     "output_type": "execute_result"
    }
   ],
   "source": [
    "# The number of occurrences, without overlap\n",
    "string2.count('e')"
   ]
  },
  {
   "cell_type": "code",
   "execution_count": 38,
   "id": "940b7ae4",
   "metadata": {},
   "outputs": [
    {
     "data": {
      "text/plain": [
       "1"
      ]
     },
     "execution_count": 38,
     "metadata": {},
     "output_type": "execute_result"
    }
   ],
   "source": [
    "# The index of occurrences, without overlap\n",
    "string2.find('e')"
   ]
  },
  {
   "cell_type": "code",
   "execution_count": 39,
   "id": "aff050b6",
   "metadata": {},
   "outputs": [
    {
     "data": {
      "text/plain": [
       "['hello,', 'my', 'name', 'is', 'bertan.', 'what', 'is', 'your', 'name?']"
      ]
     },
     "execution_count": 39,
     "metadata": {},
     "output_type": "execute_result"
    }
   ],
   "source": [
    "# Split a string\n",
    "string2.split()"
   ]
  },
  {
   "cell_type": "code",
   "execution_count": 40,
   "id": "20d087a9",
   "metadata": {},
   "outputs": [
    {
     "data": {
      "text/plain": [
       "['hello, my name is bertan', ' what is your name?']"
      ]
     },
     "execution_count": 40,
     "metadata": {},
     "output_type": "execute_result"
    }
   ],
   "source": [
    "# Split by a specific element\n",
    "string2.split('.')"
   ]
  },
  {
   "cell_type": "code",
   "execution_count": 41,
   "id": "f4e4e485",
   "metadata": {},
   "outputs": [
    {
     "data": {
      "text/plain": [
       "('hello, my name is bertan', '.', ' what is your name?')"
      ]
     },
     "execution_count": 41,
     "metadata": {},
     "output_type": "execute_result"
    }
   ],
   "source": [
    "# Partition by a specific element\n",
    "string2.partition('.')"
   ]
  },
  {
   "cell_type": "code",
   "execution_count": 42,
   "id": "ecda8868",
   "metadata": {},
   "outputs": [
    {
     "name": "stdout",
     "output_type": "stream",
     "text": [
      "My name is Bertan.\n",
      "I am 28 years old, 195cm, and 105.5kg.\n",
      "My real GPA:     3.215800\n",
      "My official GPA: 3.22\n"
     ]
    }
   ],
   "source": [
    "# Format with the .format() \n",
    "print('My name is {}.'.format('Bertan'))\n",
    "print('I am {y} years old, {h}cm, and {w}kg.'.format(y=28, h=195, w=105.5))\n",
    "print('My real GPA: {0:12.6f}'.format(3.2158))\n",
    "print('My official GPA: {0:1.2f}'.format(3.2158))"
   ]
  },
  {
   "cell_type": "markdown",
   "id": "21c4bba7",
   "metadata": {},
   "source": [
    "# Lists\n",
    "Lists are ordered sequence of objects. They are mutable. They can hold a variety of object types. Indexing and slicing are possible on lists."
   ]
  },
  {
   "cell_type": "code",
   "execution_count": 43,
   "id": "04d9bac2",
   "metadata": {},
   "outputs": [
    {
     "data": {
      "text/plain": [
       "['Hello', 23, 'b', 13.1]"
      ]
     },
     "execution_count": 43,
     "metadata": {},
     "output_type": "execute_result"
    }
   ],
   "source": [
    "# Example\n",
    "['Hello', 23, 'b', 13.1]"
   ]
  },
  {
   "cell_type": "code",
   "execution_count": 44,
   "id": "e4d92718",
   "metadata": {},
   "outputs": [
    {
     "data": {
      "text/plain": [
       "4"
      ]
     },
     "execution_count": 44,
     "metadata": {},
     "output_type": "execute_result"
    }
   ],
   "source": [
    "# Length of a list\n",
    "len(['Hello', 23, 'b', 13.1])"
   ]
  },
  {
   "cell_type": "markdown",
   "id": "cc83e5ec",
   "metadata": {},
   "source": [
    "###  Indexing and Slicing"
   ]
  },
  {
   "cell_type": "code",
   "execution_count": 45,
   "id": "b4b198ee",
   "metadata": {},
   "outputs": [
    {
     "data": {
      "text/plain": [
       "[1, 'two', 3, 'four', 5]"
      ]
     },
     "execution_count": 45,
     "metadata": {},
     "output_type": "execute_result"
    }
   ],
   "source": [
    "# Variable sssignment\n",
    "list1 = [1, 'two', 3, 'four', 5]\n",
    "list1"
   ]
  },
  {
   "cell_type": "code",
   "execution_count": 46,
   "id": "2d707f68",
   "metadata": {},
   "outputs": [
    {
     "data": {
      "text/plain": [
       "1"
      ]
     },
     "execution_count": 46,
     "metadata": {},
     "output_type": "execute_result"
    }
   ],
   "source": [
    "# Grab the first term \n",
    "list1[0]"
   ]
  },
  {
   "cell_type": "code",
   "execution_count": 47,
   "id": "017b6865",
   "metadata": {},
   "outputs": [
    {
     "data": {
      "text/plain": [
       "[1, 'two', 3, 'four', 5]"
      ]
     },
     "execution_count": 47,
     "metadata": {},
     "output_type": "execute_result"
    }
   ],
   "source": [
    "# Grab everything\n",
    "list1[:]"
   ]
  },
  {
   "cell_type": "code",
   "execution_count": 48,
   "id": "a42960d0",
   "metadata": {},
   "outputs": [
    {
     "data": {
      "text/plain": [
       "['two', 3, 'four', 5]"
      ]
     },
     "execution_count": 48,
     "metadata": {},
     "output_type": "execute_result"
    }
   ],
   "source": [
    "# Grab everything from the second term\n",
    "list1[1:]"
   ]
  },
  {
   "cell_type": "code",
   "execution_count": 49,
   "id": "7f6bf1d4",
   "metadata": {},
   "outputs": [
    {
     "data": {
      "text/plain": [
       "[1, 'two', 3]"
      ]
     },
     "execution_count": 49,
     "metadata": {},
     "output_type": "execute_result"
    }
   ],
   "source": [
    "# Grab everything up to the fourth term\n",
    "list1[:3]"
   ]
  },
  {
   "cell_type": "code",
   "execution_count": 50,
   "id": "cdbfc142",
   "metadata": {},
   "outputs": [
    {
     "data": {
      "text/plain": [
       "['two', 3, 'four']"
      ]
     },
     "execution_count": 50,
     "metadata": {},
     "output_type": "execute_result"
    }
   ],
   "source": [
    "# Grab everything between the first and the last term\n",
    "list1[1:4]"
   ]
  },
  {
   "cell_type": "code",
   "execution_count": 51,
   "id": "0a12f204",
   "metadata": {},
   "outputs": [
    {
     "data": {
      "text/plain": [
       "5"
      ]
     },
     "execution_count": 51,
     "metadata": {},
     "output_type": "execute_result"
    }
   ],
   "source": [
    "# Grap the last term\n",
    "list1[-1]"
   ]
  },
  {
   "cell_type": "code",
   "execution_count": 52,
   "id": "0813921e",
   "metadata": {},
   "outputs": [
    {
     "data": {
      "text/plain": [
       "[1, 'two', 3, 'four']"
      ]
     },
     "execution_count": 52,
     "metadata": {},
     "output_type": "execute_result"
    }
   ],
   "source": [
    "# Grab everything up to the last term\n",
    "list1[:-1]"
   ]
  },
  {
   "cell_type": "code",
   "execution_count": 53,
   "id": "b9d931ee",
   "metadata": {},
   "outputs": [
    {
     "data": {
      "text/plain": [
       "[1, 'two', 3, 'four', 5]"
      ]
     },
     "execution_count": 53,
     "metadata": {},
     "output_type": "execute_result"
    }
   ],
   "source": [
    "# Grab everything, but go in steps size of 1\n",
    "list1[::1]"
   ]
  },
  {
   "cell_type": "code",
   "execution_count": 54,
   "id": "4ea53556",
   "metadata": {},
   "outputs": [
    {
     "data": {
      "text/plain": [
       "[1, 3, 5]"
      ]
     },
     "execution_count": 54,
     "metadata": {},
     "output_type": "execute_result"
    }
   ],
   "source": [
    "# Grab everything, but go in step sizes of 2\n",
    "list1[::2]"
   ]
  },
  {
   "cell_type": "code",
   "execution_count": 55,
   "id": "16c2e15b",
   "metadata": {},
   "outputs": [
    {
     "data": {
      "text/plain": [
       "[5, 'four', 3, 'two', 1]"
      ]
     },
     "execution_count": 55,
     "metadata": {},
     "output_type": "execute_result"
    }
   ],
   "source": [
    "# Grab everything backwards\n",
    "list1[::-1]"
   ]
  },
  {
   "cell_type": "markdown",
   "id": "1be5d465",
   "metadata": {},
   "source": [
    "### Properties and Methods"
   ]
  },
  {
   "cell_type": "code",
   "execution_count": 56,
   "id": "c8a80ea4",
   "metadata": {},
   "outputs": [
    {
     "data": {
      "text/plain": [
       "[1, 'two', 3, 'four', 5, 'new item']"
      ]
     },
     "execution_count": 56,
     "metadata": {},
     "output_type": "execute_result"
    }
   ],
   "source": [
    "# Concatenate lists\n",
    "list1 + ['new item']"
   ]
  },
  {
   "cell_type": "code",
   "execution_count": 57,
   "id": "7d7c9a72",
   "metadata": {},
   "outputs": [
    {
     "data": {
      "text/plain": [
       "[1, 'two', 3, 'four', 5, 'permanent new item ']"
      ]
     },
     "execution_count": 57,
     "metadata": {},
     "output_type": "execute_result"
    }
   ],
   "source": [
    "# Reassign list completely\n",
    "list1 = list1 + ['permanent new item ']\n",
    "list1"
   ]
  },
  {
   "cell_type": "code",
   "execution_count": 58,
   "id": "32412344",
   "metadata": {},
   "outputs": [
    {
     "data": {
      "text/plain": [
       "[1,\n",
       " 'two',\n",
       " 3,\n",
       " 'four',\n",
       " 5,\n",
       " 'permanent new item ',\n",
       " 1,\n",
       " 'two',\n",
       " 3,\n",
       " 'four',\n",
       " 5,\n",
       " 'permanent new item ']"
      ]
     },
     "execution_count": 58,
     "metadata": {},
     "output_type": "execute_result"
    }
   ],
   "source": [
    "# Make the list double\n",
    "list1 * 2"
   ]
  },
  {
   "cell_type": "code",
   "execution_count": 59,
   "id": "cd883bb0",
   "metadata": {},
   "outputs": [
    {
     "data": {
      "text/plain": [
       "[1,\n",
       " 'two',\n",
       " 3,\n",
       " 'four',\n",
       " 5,\n",
       " 'permanent new item ',\n",
       " 1,\n",
       " 'two',\n",
       " 3,\n",
       " 'four',\n",
       " 5,\n",
       " 'permanent new item ']"
      ]
     },
     "execution_count": 59,
     "metadata": {},
     "output_type": "execute_result"
    }
   ],
   "source": [
    "# To change a list requires reassignment\n",
    "list1 = list1 * 2\n",
    "list1"
   ]
  },
  {
   "cell_type": "code",
   "execution_count": 60,
   "id": "82685d88",
   "metadata": {},
   "outputs": [
    {
     "data": {
      "text/plain": [
       "[1, 2, 3, 4, 5]"
      ]
     },
     "execution_count": 60,
     "metadata": {},
     "output_type": "execute_result"
    }
   ],
   "source": [
    "# Variable assignment\n",
    "list2 = [1, 2, 3, 4, 5]\n",
    "list2"
   ]
  },
  {
   "cell_type": "code",
   "execution_count": 61,
   "id": "e59e0bdd",
   "metadata": {},
   "outputs": [
    {
     "data": {
      "text/plain": [
       "[1, 2, 3, 4, 5, 6]"
      ]
     },
     "execution_count": 61,
     "metadata": {},
     "output_type": "execute_result"
    }
   ],
   "source": [
    "# Append\n",
    "list2.append(6)\n",
    "list2"
   ]
  },
  {
   "cell_type": "code",
   "execution_count": 62,
   "id": "53b4790b",
   "metadata": {},
   "outputs": [
    {
     "data": {
      "text/plain": [
       "[1, 2, 3, 4, 5, 6, 7, 8]"
      ]
     },
     "execution_count": 62,
     "metadata": {},
     "output_type": "execute_result"
    }
   ],
   "source": [
    "# Extent\n",
    "list2.extend([7, 8])\n",
    "list2"
   ]
  },
  {
   "cell_type": "code",
   "execution_count": 63,
   "id": "d61e6898",
   "metadata": {},
   "outputs": [
    {
     "data": {
      "text/plain": [
       "[1, 2, 3, 3, 4, 5, 6, 7, 8]"
      ]
     },
     "execution_count": 63,
     "metadata": {},
     "output_type": "execute_result"
    }
   ],
   "source": [
    "# Insert\n",
    "list2.insert(2, 3)\n",
    "list2"
   ]
  },
  {
   "cell_type": "code",
   "execution_count": 64,
   "id": "cf3deea4",
   "metadata": {},
   "outputs": [
    {
     "data": {
      "text/plain": [
       "2"
      ]
     },
     "execution_count": 64,
     "metadata": {},
     "output_type": "execute_result"
    }
   ],
   "source": [
    "# Count\n",
    "list2.count(3)"
   ]
  },
  {
   "cell_type": "code",
   "execution_count": 65,
   "id": "d1e8577a",
   "metadata": {},
   "outputs": [
    {
     "data": {
      "text/plain": [
       "1"
      ]
     },
     "execution_count": 65,
     "metadata": {},
     "output_type": "execute_result"
    }
   ],
   "source": [
    "# Pop\n",
    "popped_item = list2.pop(0)\n",
    "popped_item"
   ]
  },
  {
   "cell_type": "code",
   "execution_count": 66,
   "id": "0acebefb",
   "metadata": {},
   "outputs": [
    {
     "data": {
      "text/plain": [
       "[2, 3, 4, 5, 6, 7, 8]"
      ]
     },
     "execution_count": 66,
     "metadata": {},
     "output_type": "execute_result"
    }
   ],
   "source": [
    "# Remove\n",
    "list2.remove(3)\n",
    "list2"
   ]
  },
  {
   "cell_type": "code",
   "execution_count": 67,
   "id": "34a869cb",
   "metadata": {},
   "outputs": [
    {
     "data": {
      "text/plain": [
       "1"
      ]
     },
     "execution_count": 67,
     "metadata": {},
     "output_type": "execute_result"
    }
   ],
   "source": [
    "# Index\n",
    "list2.index(3)"
   ]
  },
  {
   "cell_type": "code",
   "execution_count": 68,
   "id": "92e19385",
   "metadata": {},
   "outputs": [
    {
     "data": {
      "text/plain": [
       "[8, 7, 6, 5, 4, 3, 2]"
      ]
     },
     "execution_count": 68,
     "metadata": {},
     "output_type": "execute_result"
    }
   ],
   "source": [
    "# Reverse\n",
    "list2.reverse()\n",
    "list2"
   ]
  },
  {
   "cell_type": "code",
   "execution_count": 69,
   "id": "5723a61b",
   "metadata": {},
   "outputs": [
    {
     "data": {
      "text/plain": [
       "[2, 3, 4, 5, 6, 7, 8]"
      ]
     },
     "execution_count": 69,
     "metadata": {},
     "output_type": "execute_result"
    }
   ],
   "source": [
    "# Sort\n",
    "list2.sort()\n",
    "list2"
   ]
  },
  {
   "cell_type": "code",
   "execution_count": 70,
   "id": "bbfd287b",
   "metadata": {},
   "outputs": [
    {
     "data": {
      "text/plain": [
       "[]"
      ]
     },
     "execution_count": 70,
     "metadata": {},
     "output_type": "execute_result"
    }
   ],
   "source": [
    "# Clear\n",
    "list2.clear()\n",
    "list2"
   ]
  },
  {
   "cell_type": "code",
   "execution_count": 71,
   "id": "d91dce1a",
   "metadata": {},
   "outputs": [
    {
     "name": "stdout",
     "output_type": "stream",
     "text": [
      "[1, 2, 3]\n",
      "[1, 2, 3, 4]\n"
     ]
    }
   ],
   "source": [
    "# Copy\n",
    "list3 = [1,2,3]\n",
    "list4 = list3.copy()\n",
    "list4.append(4)\n",
    "\n",
    "print(list3)\n",
    "print(list4)"
   ]
  },
  {
   "cell_type": "markdown",
   "id": "81897932",
   "metadata": {},
   "source": [
    "### Nesting Lists"
   ]
  },
  {
   "cell_type": "code",
   "execution_count": 72,
   "id": "3d3dc616",
   "metadata": {},
   "outputs": [
    {
     "data": {
      "text/plain": [
       "[[1, 2, 3], [4, 5, 6], [7, 8, 9]]"
      ]
     },
     "execution_count": 72,
     "metadata": {},
     "output_type": "execute_result"
    }
   ],
   "source": [
    "# Make a list of lists to form a matrix\n",
    "list_1=[1,2,3]\n",
    "list_2=[4,5,6]\n",
    "list_3=[7,8,9]\n",
    "\n",
    "matrix = [list_1,list_2,list_3]\n",
    "matrix"
   ]
  },
  {
   "cell_type": "code",
   "execution_count": 73,
   "id": "d2a9ccc1",
   "metadata": {},
   "outputs": [
    {
     "data": {
      "text/plain": [
       "[1, 2, 3]"
      ]
     },
     "execution_count": 73,
     "metadata": {},
     "output_type": "execute_result"
    }
   ],
   "source": [
    "# Grab first item\n",
    "matrix[0]"
   ]
  },
  {
   "cell_type": "code",
   "execution_count": 74,
   "id": "a4a97c32",
   "metadata": {},
   "outputs": [
    {
     "data": {
      "text/plain": [
       "5"
      ]
     },
     "execution_count": 74,
     "metadata": {},
     "output_type": "execute_result"
    }
   ],
   "source": [
    "# Grab second item of the second item\n",
    "matrix[1][1]"
   ]
  },
  {
   "cell_type": "markdown",
   "id": "923fb360",
   "metadata": {},
   "source": [
    "# Tuples\n",
    "Tuples are ordered sequence of objects. They are immutable. They can hold a variety of object types. Indexing and slicing are possible on lists. Indexing and slicing are the same as in lists but properties and methods vary because of the immutability feature."
   ]
  },
  {
   "cell_type": "code",
   "execution_count": 75,
   "id": "7428057d",
   "metadata": {},
   "outputs": [
    {
     "data": {
      "text/plain": [
       "('Hello', 23, 'b', 13.1)"
      ]
     },
     "execution_count": 75,
     "metadata": {},
     "output_type": "execute_result"
    }
   ],
   "source": [
    "# Example\n",
    "('Hello', 23, 'b', 13.1)"
   ]
  },
  {
   "cell_type": "code",
   "execution_count": 76,
   "id": "d705afd2",
   "metadata": {},
   "outputs": [
    {
     "data": {
      "text/plain": [
       "4"
      ]
     },
     "execution_count": 76,
     "metadata": {},
     "output_type": "execute_result"
    }
   ],
   "source": [
    "# Length of a tuple\n",
    "len(('Hello', 23, 'b', 13.1))"
   ]
  },
  {
   "cell_type": "code",
   "execution_count": 77,
   "id": "7f8bf96f",
   "metadata": {},
   "outputs": [
    {
     "data": {
      "text/plain": [
       "(1, 2, 3, 4, 5)"
      ]
     },
     "execution_count": 77,
     "metadata": {},
     "output_type": "execute_result"
    }
   ],
   "source": [
    "# Variable assignment\n",
    "tup1 = (1, 2, 3, 4, 5)\n",
    "tup1"
   ]
  },
  {
   "cell_type": "code",
   "execution_count": 78,
   "id": "d9f3e90c",
   "metadata": {},
   "outputs": [
    {
     "data": {
      "text/plain": [
       "(3, 4)"
      ]
     },
     "execution_count": 78,
     "metadata": {},
     "output_type": "execute_result"
    }
   ],
   "source": [
    "# Indexing and slicing\n",
    "tup1[2:4]"
   ]
  },
  {
   "cell_type": "code",
   "execution_count": 79,
   "id": "f772e6bb",
   "metadata": {},
   "outputs": [
    {
     "data": {
      "text/plain": [
       "1"
      ]
     },
     "execution_count": 79,
     "metadata": {},
     "output_type": "execute_result"
    }
   ],
   "source": [
    "# Count\n",
    "tup1.count(3)"
   ]
  },
  {
   "cell_type": "code",
   "execution_count": 80,
   "id": "2ad902af",
   "metadata": {},
   "outputs": [
    {
     "data": {
      "text/plain": [
       "2"
      ]
     },
     "execution_count": 80,
     "metadata": {},
     "output_type": "execute_result"
    }
   ],
   "source": [
    "# Index\n",
    "tup1.index(3)"
   ]
  },
  {
   "cell_type": "code",
   "execution_count": 81,
   "id": "7d2c51c9",
   "metadata": {},
   "outputs": [
    {
     "name": "stdout",
     "output_type": "stream",
     "text": [
      "[1, 2, 3]\n",
      "[1, 200, 3, 4]\n",
      "These kinds of operations are not possible on tuples!\n"
     ]
    }
   ],
   "source": [
    "# Mutable vs. immutable\n",
    "list5 = [1, 2, 3]\n",
    "print(list5)\n",
    "\n",
    "list5[1] = 200\n",
    "list5.append(4)\n",
    "\n",
    "print(list5)\n",
    "print(\"These kinds of operations are not possible on tuples!\")"
   ]
  },
  {
   "cell_type": "markdown",
   "id": "5dc75600",
   "metadata": {},
   "source": [
    "# Sets\n",
    "Sets are unordered collection of unique objects."
   ]
  },
  {
   "cell_type": "code",
   "execution_count": 82,
   "id": "49fb1a35",
   "metadata": {},
   "outputs": [
    {
     "data": {
      "text/plain": [
       "{13.1, 23, 'Hello', 'b'}"
      ]
     },
     "execution_count": 82,
     "metadata": {},
     "output_type": "execute_result"
    }
   ],
   "source": [
    "# Example\n",
    "{'Hello', 23, 'b', 13.1}"
   ]
  },
  {
   "cell_type": "code",
   "execution_count": 83,
   "id": "829e9660",
   "metadata": {},
   "outputs": [
    {
     "data": {
      "text/plain": [
       "4"
      ]
     },
     "execution_count": 83,
     "metadata": {},
     "output_type": "execute_result"
    }
   ],
   "source": [
    "# Length of a set\n",
    "len({'Hello', 23, 'b', 13.1})"
   ]
  },
  {
   "cell_type": "code",
   "execution_count": 84,
   "id": "4ee2df9d",
   "metadata": {},
   "outputs": [
    {
     "data": {
      "text/plain": [
       "{1, 2, 3, 6, 7}"
      ]
     },
     "execution_count": 84,
     "metadata": {},
     "output_type": "execute_result"
    }
   ],
   "source": [
    "# Variable assignment\n",
    "set1 = {1, 2, 3, 4, 5}\n",
    "set2 = {1, 2, 3, 6, 7}\n",
    "set2"
   ]
  },
  {
   "cell_type": "code",
   "execution_count": 85,
   "id": "f442215e",
   "metadata": {},
   "outputs": [
    {
     "data": {
      "text/plain": [
       "{0, 1, 2, 3, 4, 5}"
      ]
     },
     "execution_count": 85,
     "metadata": {},
     "output_type": "execute_result"
    }
   ],
   "source": [
    "# Add\n",
    "set1.add(0)\n",
    "set1"
   ]
  },
  {
   "cell_type": "code",
   "execution_count": 86,
   "id": "499e539f",
   "metadata": {},
   "outputs": [
    {
     "data": {
      "text/plain": [
       "{1, 2, 3, 4, 5}"
      ]
     },
     "execution_count": 86,
     "metadata": {},
     "output_type": "execute_result"
    }
   ],
   "source": [
    "# Discard\n",
    "set1.discard(0)\n",
    "set1"
   ]
  },
  {
   "cell_type": "code",
   "execution_count": 87,
   "id": "c0383fa5",
   "metadata": {},
   "outputs": [
    {
     "data": {
      "text/plain": [
       "{4, 5}"
      ]
     },
     "execution_count": 87,
     "metadata": {},
     "output_type": "execute_result"
    }
   ],
   "source": [
    "# Difference\n",
    "set1.difference(set2)"
   ]
  },
  {
   "cell_type": "code",
   "execution_count": 88,
   "id": "9d51001f",
   "metadata": {},
   "outputs": [
    {
     "data": {
      "text/plain": [
       "{4, 5, 6, 7}"
      ]
     },
     "execution_count": 88,
     "metadata": {},
     "output_type": "execute_result"
    }
   ],
   "source": [
    "# Symmetric difference\n",
    "set1.symmetric_difference(set2)"
   ]
  },
  {
   "cell_type": "code",
   "execution_count": 89,
   "id": "597b877d",
   "metadata": {},
   "outputs": [
    {
     "data": {
      "text/plain": [
       "{1, 2, 3}"
      ]
     },
     "execution_count": 89,
     "metadata": {},
     "output_type": "execute_result"
    }
   ],
   "source": [
    "# Intersection\n",
    "set1.intersection(set2)"
   ]
  },
  {
   "cell_type": "code",
   "execution_count": 90,
   "id": "0f7d9d9b",
   "metadata": {},
   "outputs": [
    {
     "data": {
      "text/plain": [
       "{1, 2, 3, 4, 5, 6, 7}"
      ]
     },
     "execution_count": 90,
     "metadata": {},
     "output_type": "execute_result"
    }
   ],
   "source": [
    "# Union\n",
    "set1.union(set2)"
   ]
  },
  {
   "cell_type": "code",
   "execution_count": 91,
   "id": "f8abcddb",
   "metadata": {},
   "outputs": [
    {
     "data": {
      "text/plain": [
       "{1, 2, 3, 4, 5, 6, 7}"
      ]
     },
     "execution_count": 91,
     "metadata": {},
     "output_type": "execute_result"
    }
   ],
   "source": [
    "# Update\n",
    "set2.update(set1)\n",
    "set2"
   ]
  },
  {
   "cell_type": "code",
   "execution_count": 92,
   "id": "ef876c5d",
   "metadata": {},
   "outputs": [
    {
     "data": {
      "text/plain": [
       "1"
      ]
     },
     "execution_count": 92,
     "metadata": {},
     "output_type": "execute_result"
    }
   ],
   "source": [
    "# Pop\n",
    "popped_item = set2.pop()\n",
    "popped_item"
   ]
  },
  {
   "cell_type": "code",
   "execution_count": 93,
   "id": "489d3f37",
   "metadata": {},
   "outputs": [
    {
     "data": {
      "text/plain": [
       "{2, 3, 4, 5, 6}"
      ]
     },
     "execution_count": 93,
     "metadata": {},
     "output_type": "execute_result"
    }
   ],
   "source": [
    "# Remove\n",
    "set2.remove(7)\n",
    "set2"
   ]
  },
  {
   "cell_type": "code",
   "execution_count": 94,
   "id": "a779e4e1",
   "metadata": {},
   "outputs": [
    {
     "data": {
      "text/plain": [
       "{0, 1, 2, 3, 4, 5}"
      ]
     },
     "execution_count": 94,
     "metadata": {},
     "output_type": "execute_result"
    }
   ],
   "source": [
    "# Copy\n",
    "set3 = set1.copy()\n",
    "set3.add(0)\n",
    "set3"
   ]
  },
  {
   "cell_type": "code",
   "execution_count": 95,
   "id": "da8e5c60",
   "metadata": {},
   "outputs": [
    {
     "data": {
      "text/plain": [
       "False"
      ]
     },
     "execution_count": 95,
     "metadata": {},
     "output_type": "execute_result"
    }
   ],
   "source": [
    "# Check disjoint\n",
    "set1.isdisjoint(set3)"
   ]
  },
  {
   "cell_type": "code",
   "execution_count": 96,
   "id": "4529dce7",
   "metadata": {},
   "outputs": [
    {
     "data": {
      "text/plain": [
       "True"
      ]
     },
     "execution_count": 96,
     "metadata": {},
     "output_type": "execute_result"
    }
   ],
   "source": [
    "# Check subset\n",
    "set1.issubset(set3)"
   ]
  },
  {
   "cell_type": "code",
   "execution_count": 97,
   "id": "95aab8b9",
   "metadata": {},
   "outputs": [
    {
     "data": {
      "text/plain": [
       "False"
      ]
     },
     "execution_count": 97,
     "metadata": {},
     "output_type": "execute_result"
    }
   ],
   "source": [
    "# Check superset\n",
    "set1.issuperset(set3)"
   ]
  },
  {
   "cell_type": "code",
   "execution_count": 98,
   "id": "c32f5cca",
   "metadata": {},
   "outputs": [
    {
     "data": {
      "text/plain": [
       "set()"
      ]
     },
     "execution_count": 98,
     "metadata": {},
     "output_type": "execute_result"
    }
   ],
   "source": [
    "# Clear\n",
    "set3.clear()\n",
    "set3"
   ]
  },
  {
   "cell_type": "markdown",
   "id": "f15d288e",
   "metadata": {},
   "source": [
    "# Dictionaries\n",
    "Dictionaries are unordered key:value pairs."
   ]
  },
  {
   "cell_type": "code",
   "execution_count": 99,
   "id": "02032c42",
   "metadata": {},
   "outputs": [
    {
     "data": {
      "text/plain": [
       "{'key1': 'Hello',\n",
       " 'key2': 23,\n",
       " 'key3': 'b',\n",
       " 'key4': 13.1,\n",
       " 'key5': [1, 2, 3],\n",
       " 'key6': (1, 2, 3),\n",
       " 'key7': {1, 2, 3}}"
      ]
     },
     "execution_count": 99,
     "metadata": {},
     "output_type": "execute_result"
    }
   ],
   "source": [
    "# Example\n",
    "{'key1':'Hello', 'key2':23, 'key3':'b', 'key4':13.1, 'key5':[1, 2, 3], 'key6':(1, 2, 3), 'key7':{1, 2, 3}}"
   ]
  },
  {
   "cell_type": "code",
   "execution_count": 100,
   "id": "d3ee1a80",
   "metadata": {},
   "outputs": [
    {
     "data": {
      "text/plain": [
       "7"
      ]
     },
     "execution_count": 100,
     "metadata": {},
     "output_type": "execute_result"
    }
   ],
   "source": [
    "# Length of a dictionary\n",
    "len({'key1':'Hello', 'key2':23, 'key3':'b', 'key4':13.1, 'key5':[1, 2, 3], 'key6':(1, 2, 3), 'key7':{1, 2, 3}})"
   ]
  },
  {
   "cell_type": "code",
   "execution_count": 101,
   "id": "f2aaf0e9",
   "metadata": {},
   "outputs": [],
   "source": [
    "# Variable assignment\n",
    "dict1 = {'key1':123, 'key2':[1, 2, 3], 'key3':'Hello'}"
   ]
  },
  {
   "cell_type": "code",
   "execution_count": 102,
   "id": "97caf36d",
   "metadata": {},
   "outputs": [
    {
     "data": {
      "text/plain": [
       "123"
      ]
     },
     "execution_count": 102,
     "metadata": {},
     "output_type": "execute_result"
    }
   ],
   "source": [
    "# Grab an item\n",
    "dict1['key1']"
   ]
  },
  {
   "cell_type": "code",
   "execution_count": 103,
   "id": "31e7cbd9",
   "metadata": {},
   "outputs": [
    {
     "data": {
      "text/plain": [
       "1"
      ]
     },
     "execution_count": 103,
     "metadata": {},
     "output_type": "execute_result"
    }
   ],
   "source": [
    "# Grab the value of an item\n",
    "dict1['key2'][0]"
   ]
  },
  {
   "cell_type": "code",
   "execution_count": 104,
   "id": "d36469cf",
   "metadata": {},
   "outputs": [
    {
     "data": {
      "text/plain": [
       "100"
      ]
     },
     "execution_count": 104,
     "metadata": {},
     "output_type": "execute_result"
    }
   ],
   "source": [
    "# Affect an value\n",
    "dict1['key1'] = dict1['key1'] - 23\n",
    "dict1['key1']"
   ]
  },
  {
   "cell_type": "code",
   "execution_count": 105,
   "id": "76eec3f3",
   "metadata": {},
   "outputs": [
    {
     "data": {
      "text/plain": [
       "'HELLO'"
      ]
     },
     "execution_count": 105,
     "metadata": {},
     "output_type": "execute_result"
    }
   ],
   "source": [
    "# Call a method on a value\n",
    "dict1['key3'].upper()"
   ]
  },
  {
   "cell_type": "code",
   "execution_count": 106,
   "id": "dcc6d9bd",
   "metadata": {},
   "outputs": [
    {
     "data": {
      "text/plain": [
       "{'key1': 100, 'key2': [1, 2, 3], 'key3': 'Hello', 'key4': (1, 2, 3)}"
      ]
     },
     "execution_count": 106,
     "metadata": {},
     "output_type": "execute_result"
    }
   ],
   "source": [
    "# Add a key-value pair\n",
    "dict1['key4'] = (1, 2, 3)\n",
    "dict1"
   ]
  },
  {
   "cell_type": "code",
   "execution_count": 107,
   "id": "dc335983",
   "metadata": {},
   "outputs": [
    {
     "data": {
      "text/plain": [
       "dict_keys(['key1', 'key2', 'key3', 'key4'])"
      ]
     },
     "execution_count": 107,
     "metadata": {},
     "output_type": "execute_result"
    }
   ],
   "source": [
    "# Keys\n",
    "dict1.keys()"
   ]
  },
  {
   "cell_type": "code",
   "execution_count": 108,
   "id": "d6735a6e",
   "metadata": {},
   "outputs": [
    {
     "data": {
      "text/plain": [
       "dict_values([100, [1, 2, 3], 'Hello', (1, 2, 3)])"
      ]
     },
     "execution_count": 108,
     "metadata": {},
     "output_type": "execute_result"
    }
   ],
   "source": [
    "# Values\n",
    "dict1.values()"
   ]
  },
  {
   "cell_type": "code",
   "execution_count": 109,
   "id": "0c74355d",
   "metadata": {},
   "outputs": [
    {
     "data": {
      "text/plain": [
       "dict_items([('key1', 100), ('key2', [1, 2, 3]), ('key3', 'Hello'), ('key4', (1, 2, 3))])"
      ]
     },
     "execution_count": 109,
     "metadata": {},
     "output_type": "execute_result"
    }
   ],
   "source": [
    "# Items\n",
    "dict1.items()"
   ]
  },
  {
   "cell_type": "code",
   "execution_count": 110,
   "id": "2af132ba",
   "metadata": {},
   "outputs": [
    {
     "name": "stdout",
     "output_type": "stream",
     "text": [
      "100\n"
     ]
    }
   ],
   "source": [
    "# Get\n",
    "gotten_item = dict1.get('key1')\n",
    "print(gotten_item)"
   ]
  },
  {
   "cell_type": "code",
   "execution_count": 111,
   "id": "2b693426",
   "metadata": {},
   "outputs": [
    {
     "data": {
      "text/plain": [
       "(1, 2, 3)"
      ]
     },
     "execution_count": 111,
     "metadata": {},
     "output_type": "execute_result"
    }
   ],
   "source": [
    "# Pop\n",
    "popped_item = dict1.pop('key4')\n",
    "popped_item"
   ]
  },
  {
   "cell_type": "code",
   "execution_count": 112,
   "id": "a810687d",
   "metadata": {},
   "outputs": [
    {
     "data": {
      "text/plain": [
       "('key3', 'Hello')"
      ]
     },
     "execution_count": 112,
     "metadata": {},
     "output_type": "execute_result"
    }
   ],
   "source": [
    "# Popitem\n",
    "popped_item = dict1.popitem()\n",
    "popped_item"
   ]
  },
  {
   "cell_type": "code",
   "execution_count": 113,
   "id": "bbb25c6d",
   "metadata": {},
   "outputs": [
    {
     "name": "stdout",
     "output_type": "stream",
     "text": [
      "{'key1': 1, 'key2': 2, 'key3': 3}\n",
      "{'key1': 1, 'key2': 2, 'key3': 3, 'key4': 4}\n"
     ]
    }
   ],
   "source": [
    "# Copy\n",
    "dict2 = {'key1':1, 'key2':2, 'key3':3}\n",
    "dict3 = dict2.copy()\n",
    "dict3['key4'] = 4\n",
    "\n",
    "print(dict2)\n",
    "print(dict3)"
   ]
  },
  {
   "cell_type": "code",
   "execution_count": 114,
   "id": "ba7ac733",
   "metadata": {},
   "outputs": [
    {
     "data": {
      "text/plain": [
       "{}"
      ]
     },
     "execution_count": 114,
     "metadata": {},
     "output_type": "execute_result"
    }
   ],
   "source": [
    "# Clear\n",
    "dict3.clear()\n",
    "dict3"
   ]
  },
  {
   "cell_type": "code",
   "execution_count": 115,
   "id": "6321c1b8",
   "metadata": {},
   "outputs": [
    {
     "data": {
      "text/plain": [
       "'Value'"
      ]
     },
     "execution_count": 115,
     "metadata": {},
     "output_type": "execute_result"
    }
   ],
   "source": [
    "# Nesting dictionaries\n",
    "dict4 = {'key1':{'subkey':{'subsubkey':'Value'}}}\n",
    "dict4['key1']['subkey']['subsubkey']"
   ]
  },
  {
   "cell_type": "markdown",
   "id": "d3533c4e",
   "metadata": {},
   "source": [
    "# Booleans\n",
    "Logical value indicating True or False. There are comparison operations that compare variables and output a Boolean value."
   ]
  },
  {
   "cell_type": "code",
   "execution_count": 116,
   "id": "eabdb6cd",
   "metadata": {},
   "outputs": [
    {
     "data": {
      "text/plain": [
       "True"
      ]
     },
     "execution_count": 116,
     "metadata": {},
     "output_type": "execute_result"
    }
   ],
   "source": [
    "# Example\n",
    "True"
   ]
  },
  {
   "cell_type": "code",
   "execution_count": 117,
   "id": "65e32fda",
   "metadata": {},
   "outputs": [
    {
     "data": {
      "text/plain": [
       "False"
      ]
     },
     "execution_count": 117,
     "metadata": {},
     "output_type": "execute_result"
    }
   ],
   "source": [
    "# Variable assignment\n",
    "bool1 = False\n",
    "bool1"
   ]
  },
  {
   "cell_type": "code",
   "execution_count": 118,
   "id": "52fb644b",
   "metadata": {},
   "outputs": [
    {
     "name": "stdout",
     "output_type": "stream",
     "text": [
      "None\n"
     ]
    }
   ],
   "source": [
    "# None placeholder\n",
    "x = None\n",
    "print(x)"
   ]
  },
  {
   "cell_type": "markdown",
   "id": "5c24761a",
   "metadata": {},
   "source": [
    "### Comparison Operators"
   ]
  },
  {
   "cell_type": "code",
   "execution_count": 119,
   "id": "6fc43279",
   "metadata": {},
   "outputs": [
    {
     "data": {
      "text/plain": [
       "False"
      ]
     },
     "execution_count": 119,
     "metadata": {},
     "output_type": "execute_result"
    }
   ],
   "source": [
    "# Equal\n",
    "2 == 3"
   ]
  },
  {
   "cell_type": "code",
   "execution_count": 120,
   "id": "5fcbce8e",
   "metadata": {},
   "outputs": [
    {
     "data": {
      "text/plain": [
       "True"
      ]
     },
     "execution_count": 120,
     "metadata": {},
     "output_type": "execute_result"
    }
   ],
   "source": [
    "# Not equal\n",
    "2 != 3"
   ]
  },
  {
   "cell_type": "code",
   "execution_count": 121,
   "id": "66f19b59",
   "metadata": {},
   "outputs": [
    {
     "data": {
      "text/plain": [
       "False"
      ]
     },
     "execution_count": 121,
     "metadata": {},
     "output_type": "execute_result"
    }
   ],
   "source": [
    "# Greater than\n",
    "2 > 3"
   ]
  },
  {
   "cell_type": "code",
   "execution_count": 122,
   "id": "510a9815",
   "metadata": {},
   "outputs": [
    {
     "data": {
      "text/plain": [
       "True"
      ]
     },
     "execution_count": 122,
     "metadata": {},
     "output_type": "execute_result"
    }
   ],
   "source": [
    "# Less than\n",
    "2 < 3"
   ]
  },
  {
   "cell_type": "code",
   "execution_count": 123,
   "id": "80597956",
   "metadata": {},
   "outputs": [
    {
     "data": {
      "text/plain": [
       "True"
      ]
     },
     "execution_count": 123,
     "metadata": {},
     "output_type": "execute_result"
    }
   ],
   "source": [
    "# Greater than or equal to\n",
    "2 >= 2"
   ]
  },
  {
   "cell_type": "code",
   "execution_count": 124,
   "id": "5ddde7ea",
   "metadata": {},
   "outputs": [
    {
     "data": {
      "text/plain": [
       "True"
      ]
     },
     "execution_count": 124,
     "metadata": {},
     "output_type": "execute_result"
    }
   ],
   "source": [
    "# Less than or equal to\n",
    "2 <= 3"
   ]
  },
  {
   "cell_type": "code",
   "execution_count": 125,
   "id": "5d972d47",
   "metadata": {},
   "outputs": [
    {
     "data": {
      "text/plain": [
       "False"
      ]
     },
     "execution_count": 125,
     "metadata": {},
     "output_type": "execute_result"
    }
   ],
   "source": [
    "# Chained comparison with and\n",
    "1==2 and 2<3"
   ]
  },
  {
   "cell_type": "code",
   "execution_count": 126,
   "id": "a86ac0cc",
   "metadata": {},
   "outputs": [
    {
     "data": {
      "text/plain": [
       "True"
      ]
     },
     "execution_count": 126,
     "metadata": {},
     "output_type": "execute_result"
    }
   ],
   "source": [
    "# Chained comparison with or\n",
    "1==2 or 2<3"
   ]
  }
 ],
 "metadata": {
  "kernelspec": {
   "display_name": "Python 3 (ipykernel)",
   "language": "python",
   "name": "python3"
  },
  "language_info": {
   "codemirror_mode": {
    "name": "ipython",
    "version": 3
   },
   "file_extension": ".py",
   "mimetype": "text/x-python",
   "name": "python",
   "nbconvert_exporter": "python",
   "pygments_lexer": "ipython3",
   "version": "3.9.16"
  }
 },
 "nbformat": 4,
 "nbformat_minor": 5
}
